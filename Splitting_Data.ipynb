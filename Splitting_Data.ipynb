{
  "nbformat": 4,
  "nbformat_minor": 0,
  "metadata": {
    "kernelspec": {
      "display_name": "Python 3",
      "language": "python",
      "name": "python3"
    },
    "language_info": {
      "codemirror_mode": {
        "name": "ipython",
        "version": 3
      },
      "file_extension": ".py",
      "mimetype": "text/x-python",
      "name": "python",
      "nbconvert_exporter": "python",
      "pygments_lexer": "ipython3",
      "version": "3.7.4"
    },
    "colab": {
      "name": "Splitting_Data.ipynb",
      "provenance": [],
      "collapsed_sections": []
    }
  },
  "cells": [
    {
      "cell_type": "code",
      "metadata": {
        "id": "ez47F4Yro2yJ",
        "colab_type": "code",
        "colab": {}
      },
      "source": [
        "def load_images(path, size=(256,512)):\n",
        "    src_list, tar_list = list(), list()\n",
        "    # enumerate filenames in directory, assume all are images\n",
        "    for filename in listdir(path):\n",
        "        # load and resize the image\n",
        "        pixels = load_img(path + filename, target_size=size)\n",
        "        # convert to numpy array\n",
        "        pixels = img_to_array(pixels)\n",
        "        # split into satellite and map\n",
        "        sketch_img, shoe_img = pixels[:, :256], pixels[:, 256:]\n",
        "        src_list.append(sketch_img)\n",
        "        tar_list.append(shoe_img)\n",
        "        sketch_img = array_to_img(sketch_img)\n",
        "        shoe_img = array_to_img(shoe_img)\n",
        "        sketch_img.save(\"C:/Users/BIPIN/Desktop/s2ipix/trains/img%s.jpg\" % (filename))\n",
        "        shoe_img.save(\"C:/Users/BIPIN/Desktop/s2ipix/trainp/img%s.jpg\" % (filename))\n",
        "        \n",
        "    return [asarray(src_list), asarray(tar_list)]"
      ],
      "execution_count": 0,
      "outputs": []
    },
    {
      "cell_type": "code",
      "metadata": {
        "id": "v_Fcr10No2yN",
        "colab_type": "code",
        "colab": {}
      },
      "source": [
        "from os import listdir\n",
        "from numpy import asarray\n",
        "from numpy import vstack\n",
        "from keras.preprocessing.image import img_to_array\n",
        "from keras.preprocessing.image import load_img\n",
        "from keras.preprocessing.image import array_to_img"
      ],
      "execution_count": 0,
      "outputs": []
    },
    {
      "cell_type": "code",
      "metadata": {
        "id": "nws8M-cVo2yQ",
        "colab_type": "code",
        "colab": {}
      },
      "source": [
        "path = 'C:/Users/BIPIN/Desktop/s2ipix/train/'"
      ],
      "execution_count": 0,
      "outputs": []
    },
    {
      "cell_type": "code",
      "metadata": {
        "id": "bO1zp_Z5o2yT",
        "colab_type": "code",
        "colab": {}
      },
      "source": [
        "[src_images, tar_images] = load_images(path)"
      ],
      "execution_count": 0,
      "outputs": []
    }
  ]
}